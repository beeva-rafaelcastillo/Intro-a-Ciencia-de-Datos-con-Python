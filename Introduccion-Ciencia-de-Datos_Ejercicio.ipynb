{
 "cells": [
  {
   "cell_type": "markdown",
   "metadata": {},
   "source": [
    "# Titanic Dataset\n",
    "\n",
    "![Titanic&Python](ImagenInicio.png?raw=true)\n",
    "\n",
    "A lo largo de esta práctica analizaremos el set de datos del Titanic. En la [web de Kaggle](https://www.kaggle.com/c/titanic) podremos encontrar más información sobre las diferentes variables que contiene el dataset. \n",
    "\n",
    "El objetivo de la práctica será responder a la pregunta: **¿Qué factores influyeron en la supervivencia de los pasajeros?**\n",
    "\n",
    "La práctica constará de las siguientes fases:\n",
    " 1. Primeros pasos con el dataset\n",
    " 2. Exploración del dataset y generación de estadísticas\n",
    " 3. Presentación de resultados\n",
    " \n",
    " Y si tenemos tiempo para más, construiremos un modelo en base a nuestras conclusiones para predecir la supervivencia. Compararemos nuestro modelo con un árbol de decisión que generaremos a partir del dataset.\n",
    " \n",
    "**IMPORTANTE**: este documento esta escrito utilizando notación markdown. Aquí teneis un buen [manual](https://daringfireball.net/projects/markdown/syntax)"
   ]
  },
  {
   "cell_type": "markdown",
   "metadata": {},
   "source": [
    "### Primeros pasos con el dataset:\n",
    "El objetivo de esta sección es que nos familiarizemos con Pandas y seamos capaces de manipular el dataset a nuestro interés.\n",
    "\n",
    "Lo primero que tendremos cargar son nuestros datos, en este caso en formato ```csv``` en un dataset. [Pandas gestiona múltiples inputs/outputs](http://pandas.pydata.org/pandas-docs/stable/io.html) con lo cual tendremos que usar el específico para este caso: [read_csv](http://pandas.pydata.org/pandas-docs/stable/generated/pandas.read_csv.html#pandas.read_csv) donde definiremos el separador y el path del fichero (el resto de parámetros no será necesario tocarlos en este caso):"
   ]
  },
  {
   "cell_type": "code",
   "execution_count": null,
   "metadata": {
    "collapsed": true
   },
   "outputs": [],
   "source": [
    "import pandas\n",
    "\n",
    "input_file = '/home/rafaelcastillo/Descargas/121708_vm9gb/titanic_data.csv'\n",
    "separador = \",\"\n",
    "dataset = pandas.read_csv(filepath_or_buffer=input_file, sep=separador)"
   ]
  },
  {
   "cell_type": "markdown",
   "metadata": {},
   "source": [
    "Ya tenemos nuestra variable ```dataset``` con todo el dataset cargado en memoria. Para empezar a explorar nuestro dataset vamos a utilizar algunos [procesos de Pandas](http://pandas.pydata.org/pandas-docs/stable/basics.html). Por ejemplo, respondamos a las siguientes preguntas:\n",
    " * ¿Cuantas filas y columnas contiene el dataset?\n",
    " * ¿Cual es el nombre de las columnas que incluye el dataset?\n",
    " * ¿Qué información contiene la primera fila del dataset?¿Y la última?\n",
    " Para contestar a estas preguntas utilizaremos las funciones ```.shape```, ```.columns```, ```.head()``` y ```.tail()```"
   ]
  },
  {
   "cell_type": "code",
   "execution_count": null,
   "metadata": {
    "collapsed": false
   },
   "outputs": [],
   "source": [
    "print \"El numero de filas y columnas que incluye el dataset es: \",dataset.shape\n",
    "print \"\\nLos nombres de las columnas son: \\n\",dataset.columns\n",
    "print \"\\nLa primera fila del dataset es: \\n\",dataset.head(1)\n",
    "print \"\\nLa última fila del dataset es: \\n\",dataset.tail(1)"
   ]
  },
  {
   "cell_type": "markdown",
   "metadata": {},
   "source": [
    "A continuación una descripción de las distintas columnas obtenida de la web de [Kaggle](https://www.kaggle.com/c/titanic/data)"
   ]
  },
  {
   "cell_type": "code",
   "execution_count": null,
   "metadata": {
    "collapsed": false
   },
   "outputs": [],
   "source": [
    "from IPython.display import Image\n",
    "Image(filename='DescripcionVariablesKaggle.png') "
   ]
  },
  {
   "cell_type": "markdown",
   "metadata": {},
   "source": [
    "Ahora vamos a aprender a manejarnos con nuestro dataset, para ello vamos a utilizar distintas técnicas que se describen perfectamente en la [documentación](http://pandas.pydata.org/pandas-docs/stable/indexing.html). Para aprender a manejarnos con estas técnicas vamos a utilizar otro dataframe de ejemplo:"
   ]
  },
  {
   "cell_type": "code",
   "execution_count": null,
   "metadata": {
    "collapsed": false
   },
   "outputs": [],
   "source": [
    "import numpy as np\n",
    "\n",
    "df1 = pandas.DataFrame(np.random.randn(6,4),index=list(range(0,12,2)),columns=list(range(10,18,2)))"
   ]
  },
  {
   "cell_type": "markdown",
   "metadata": {},
   "source": [
    "Como podéis comprobar he generado una matriz de datos con valores aleatorios: ```np.random.randn(6,4)```, he definido un índice: ```list(range(0,12,2))``` que es una lista de valores pares entre 0 y 10 y columnas que son otro rango de pares entre 10 y 16:"
   ]
  },
  {
   "cell_type": "code",
   "execution_count": null,
   "metadata": {
    "collapsed": false
   },
   "outputs": [],
   "source": [
    "print df1"
   ]
  },
  {
   "cell_type": "markdown",
   "metadata": {},
   "source": [
    "En esta primera parte utilizaremos las funciones ```.loc``` e ```.iloc``` para seleccionar subconjuntos de nuestro dataset. Tanto ```.loc``` como ```.iloc``` operan sobre el índice, pero mientras que **```.loc``` hace referencia a posiciones, ```.iloc``` se refiere a etiquetas**:"
   ]
  },
  {
   "cell_type": "code",
   "execution_count": null,
   "metadata": {
    "collapsed": false
   },
   "outputs": [],
   "source": [
    "# Seleciona la fila en la posición 2 (recuerda que en python las series empiezan en cero!)\n",
    "print df1.iloc[2]"
   ]
  },
  {
   "cell_type": "markdown",
   "metadata": {},
   "source": [
    "Como podemos ver, se devuelve la tercera fila (fila 1 corresponde a 0) del dataframe"
   ]
  },
  {
   "cell_type": "code",
   "execution_count": null,
   "metadata": {
    "collapsed": false
   },
   "outputs": [],
   "source": [
    "# Seleciona la fila en cuyo índice es 2\n",
    "print df1.loc[2]"
   ]
  },
  {
   "cell_type": "markdown",
   "metadata": {},
   "source": [
    "En este caso, se devuelve la fila cuyo índice es igual a 2.\n",
    "\n",
    "Podemos hacer seleciones más complejas incluyendo un rango de índices y ciertas columnas, por ejemplo:"
   ]
  },
  {
   "cell_type": "code",
   "execution_count": null,
   "metadata": {
    "collapsed": false
   },
   "outputs": [],
   "source": [
    "# Seleciona la filas cuyos indices valen 2 y 8 y las columnas 12 y 16\n",
    "print "
   ]
  },
  {
   "cell_type": "code",
   "execution_count": null,
   "metadata": {
    "collapsed": false
   },
   "outputs": [],
   "source": [
    "# Seleciona todas las filas hasta la que vale 4 y las columnas hasta la 12\n",
    "print "
   ]
  },
  {
   "cell_type": "code",
   "execution_count": null,
   "metadata": {
    "collapsed": false
   },
   "outputs": [],
   "source": [
    "# Seleciona las 4 primeras filas y las tres primeras columnas\n",
    "print "
   ]
  },
  {
   "cell_type": "markdown",
   "metadata": {},
   "source": [
    "Ahora que tenemos claro el uso de ```.loc``` e ```.iloc``` (espero!), vamos a operar con nuestro dataset. Por ejemplo vamos a seleccionar las columnas: Name, Sex, Age y las filas de la 3 a la 5 (recordar que en nuestro dataset la primera fila tiene asociado el índice 1 y así sucesivamente:"
   ]
  },
  {
   "cell_type": "code",
   "execution_count": null,
   "metadata": {
    "collapsed": false
   },
   "outputs": [],
   "source": [
    "print \"Imprimir las filas 3 a 5 y columnas Name, Sex, Age\\n\", "
   ]
  },
  {
   "cell_type": "markdown",
   "metadata": {},
   "source": [
    "Sin embargo, ahora quiero seleccionar las 4 primeras filas del dataset y la tercera y cuarta columnas:"
   ]
  },
  {
   "cell_type": "code",
   "execution_count": null,
   "metadata": {
    "collapsed": false
   },
   "outputs": [],
   "source": [
    "print \"Imprimir las 4 primeras filas y columnas tercera y cuarta\\n\", "
   ]
  },
  {
   "cell_type": "markdown",
   "metadata": {},
   "source": [
    "Perfecto!, ya sabemos seleccionar filas y columnas!, ahora el objetivo es hacer modificaciones. Por ejemplo cambiemos a Allen, Mr. William Henry su edad (actualmente 54 años) por 260. Para ello tendremos que seleccionar la fila en la que la columna 'Name' sea igual a 'Allen, Mr. William Henry', de la siguiente manera:"
   ]
  },
  {
   "cell_type": "code",
   "execution_count": null,
   "metadata": {
    "collapsed": false
   },
   "outputs": [],
   "source": [
    "print \"Edad de Allen, Mr. William Henry:\\n \", dataset.loc[dataset['Name']=='Allen, Mr. William Henry','Age']"
   ]
  },
  {
   "cell_type": "markdown",
   "metadata": {},
   "source": [
    "Para modificar este valor, tendremos que asignarle el que queremos (260):"
   ]
  },
  {
   "cell_type": "code",
   "execution_count": null,
   "metadata": {
    "collapsed": true
   },
   "outputs": [],
   "source": [
    "# Asignar nueva edad al pobre Allen:\n",
    "dataset.loc[dataset['Name']=='Allen, Mr. William Henry','Age'] = 260"
   ]
  },
  {
   "cell_type": "markdown",
   "metadata": {},
   "source": [
    "¿Cual es ahora la edad de Allen?"
   ]
  },
  {
   "cell_type": "code",
   "execution_count": null,
   "metadata": {
    "collapsed": false
   },
   "outputs": [],
   "source": [
    "print \"La nueva edad de Allen, Mr. William Henry:\\n \", dataset.loc[dataset['Name']=='Allen, Mr. William Henry','Age']"
   ]
  },
  {
   "cell_type": "markdown",
   "metadata": {},
   "source": [
    "Como vemos, ya hemos editado su edad!. Aunque le devolveremos a los 54 años, a estas alturas ya sabemos seleccionar subsets de datos y editarlos si lo necesitamos."
   ]
  },
  {
   "cell_type": "code",
   "execution_count": null,
   "metadata": {
    "collapsed": true
   },
   "outputs": [],
   "source": [
    "# Devolvamos a Allen su edad:\n"
   ]
  },
  {
   "cell_type": "markdown",
   "metadata": {},
   "source": [
    "### Exploración del dataset y generación de estadísticas\n",
    "¿Qué sabemos por ahora de nuestros datos? Practicamente nada!. Vamos a utilizar una serie de funciones que se incluyen en Pandas para obtener facilmente valiosa información de los mismos. \n",
    "\n",
    "El primera información que se ha de obtener cuando por primera vez se trabaja con un dataset es la cantidad de ```NAN``` incluidos en el mismo, para ello utilizaremos la función ```.info()``` de Pandas:"
   ]
  },
  {
   "cell_type": "code",
   "execution_count": null,
   "metadata": {
    "collapsed": false
   },
   "outputs": [],
   "source": [
    "# Obtener información sobre el número de valores NAN que se incluyen en el dataset:\n",
    "print dataset.info()"
   ]
  },
  {
   "cell_type": "markdown",
   "metadata": {},
   "source": [
    "¿Qué columnas incluyen valores nulos?: Cabin incluye 272 valores no NAN y Embarked 2 NANs"
   ]
  },
  {
   "cell_type": "markdown",
   "metadata": {},
   "source": [
    "Como podemos ver el dataset es bastante completo a excepción de estas 2 columnas. Para vuestra referencia, Pandas incluye valiosa [documentación](http://pandas.pydata.org/pandas-docs/stable/missing_data.html) para manejar ```NAN```. Aquí no vamos a entrar a manejar estos valores, pero tener en cuenta esta información!."
   ]
  },
  {
   "cell_type": "markdown",
   "metadata": {},
   "source": [
    "Bien, ya sabemos como están distribuidos los huecos en el dataset, pero volvemos a la pregunta de antes: ¿Qué sabemos de la información que contiene el dataset? Seguimos igual, practicamente nada!"
   ]
  },
  {
   "cell_type": "markdown",
   "metadata": {},
   "source": [
    "OK OK, vamos a empezar a mirar el dataset de manera que podamos responder a nuestra pregunta principal: ¿Qué factores influyeron en la supervivencia del Titanic?\n",
    "\n",
    "Pues bien, Pandas incluye la función ```.describe()``` la cual permite obtener estadísticas básicas sobre las distintas columans del dataset: "
   ]
  },
  {
   "cell_type": "code",
   "execution_count": null,
   "metadata": {
    "collapsed": false
   },
   "outputs": [],
   "source": [
    "print \"Imprimir estadísticas básicas del dataset: \\n\", dataset.describe()"
   ]
  },
  {
   "cell_type": "markdown",
   "metadata": {},
   "source": [
    "¿Qué información incluye ```.describe()``` para cada columna? \n",
    " * Número de valores (count)\n",
    " * Media (mean)\n",
    " * Desviacion Estandar (std)\n",
    " * Valor mínimo (min)\n",
    " * Valor máximo (max)\n",
    " * Primer percentil (25%)\n",
    " * Mediana (50%)\n",
    " * Tercer percentil (75%)"
   ]
  },
  {
   "cell_type": "markdown",
   "metadata": {},
   "source": [
    "Aquí ya tenemos información útil!!!, ya podemos responder a las siguientes preguntas:\n",
    " * ¿Qué porcentaje de supervivientes hubo? %\n",
    " * ¿Cual era la media de edad? \n",
    " * ¿Cual fue el ticket (Fare) más caro pagado?¿Y el que menos?  y \n",
    " * ¿Cuantas clases (Pclass) incluye el barco?"
   ]
  },
  {
   "cell_type": "markdown",
   "metadata": {},
   "source": [
    "No echais de menos una columna? 'Sex' no esta incluida en este análisis, porque? Si os fijais en la información de ```.info()``` aquí solo se han incluido las columnas numéricas (float o int64). vamos a echar un vistazo a 'Sex' para entender el formato que tiene:"
   ]
  },
  {
   "cell_type": "code",
   "execution_count": null,
   "metadata": {
    "collapsed": false
   },
   "outputs": [],
   "source": [
    "print dataset.Sex.head()"
   ]
  },
  {
   "cell_type": "markdown",
   "metadata": {},
   "source": [
    "Como vemos \"male\" y \"female\" son los valores incluidos, comprobemos que estos son los únicos valores que se incluyen para todo el dataset"
   ]
  },
  {
   "cell_type": "code",
   "execution_count": null,
   "metadata": {
    "collapsed": false
   },
   "outputs": [],
   "source": [
    "# Imprimimos todos los valores de Sex en el dataset:\n",
    "print dataset.Sex.unique()"
   ]
  },
  {
   "cell_type": "markdown",
   "metadata": {},
   "source": [
    "Como este formato nos impide trabajar con la función ```.describe()```, vamos a transformar esta columna en otros valores que nos sean de más utilidad. Para ello definiremos una función en python que asigne 1 a 'female' y 0 a 'male', después utilizaremos la función [Apply](http://pandas.pydata.org/pandas-docs/stable/generated/pandas.DataFrame.apply.html) de Pandas para modificar estos valores en el dataset:"
   ]
  },
  {
   "cell_type": "code",
   "execution_count": null,
   "metadata": {
    "collapsed": false
   },
   "outputs": [],
   "source": [
    "# definir functión que haga el cambio:\n",
    "def gender_number(gender):\n",
    "    if gender == 'male': return 0.\n",
    "    return 1.\n",
    "\n",
    "# Aplicar el cambio a todas las filas con la función Apply:\n",
    "dataset.Sex = dataset.Sex.apply(lambda x:gender_number(x))"
   ]
  },
  {
   "cell_type": "markdown",
   "metadata": {},
   "source": [
    "¿Que aspecto tiene ahora 'Sex'?"
   ]
  },
  {
   "cell_type": "code",
   "execution_count": null,
   "metadata": {
    "collapsed": false
   },
   "outputs": [],
   "source": [
    "# Imprimimos todos los valores de Sex en el dataset:\n",
    "print dataset.Sex.unique()"
   ]
  },
  {
   "cell_type": "markdown",
   "metadata": {},
   "source": [
    "Bien!, ejecutemos ahora ```.describe()``` de nuevo sobre la columna 'Sex'"
   ]
  },
  {
   "cell_type": "code",
   "execution_count": null,
   "metadata": {
    "collapsed": false
   },
   "outputs": [],
   "source": [
    "# Obtengamos estadísticas de 'Sex'\n",
    "print dataset.Sex.describe()"
   ]
  },
  {
   "cell_type": "markdown",
   "metadata": {},
   "source": [
    "Vaya, parece que no ayuda a entender como están distribuidos los sexos? Parece que no. Probemos algo nuevo: [Agregaciones con Pandas!](http://pandas.pydata.org/pandas-docs/stable/groupby.html). Como ejemplo realizaré una agregación para comprobar cuantos hombre y mujeres había en el barco:"
   ]
  },
  {
   "cell_type": "code",
   "execution_count": null,
   "metadata": {
    "collapsed": false
   },
   "outputs": [],
   "source": [
    "# Obtener el recuento de hombres y mujeres en el barco:\n",
    "print dataset.groupby('Sex').count().iloc[:,1]"
   ]
  },
  {
   "cell_type": "markdown",
   "metadata": {},
   "source": [
    "¿Cuantos hombres y mujeres había? 388 mujeres y 657 hombres"
   ]
  },
  {
   "cell_type": "markdown",
   "metadata": {},
   "source": [
    "Hagamos una cosa ahora, con el objetivo de entender como están distribuidos los pasajeros por edades vamos a crear una nueva columna llamada 'Age_ranges' que incluya el rango de edad a la que cada pasajero corresponde. El objetivo será obtener cuantos pasajeros hay en el rango [0-10), [10,20) .... "
   ]
  },
  {
   "cell_type": "code",
   "execution_count": null,
   "metadata": {
    "collapsed": false
   },
   "outputs": [],
   "source": [
    "# Function para generar los rangos de edad:\n",
    "def age_ranges(x):\n",
    "    return '[{0}-{1})'.format(10*int(x/10), 10 +10*int(x/10))\n",
    "\n",
    "# Crear nueva columna:\n",
    "dataset['Age_ranges'] = np.nan\n",
    "\n",
    "# Asignar los valores rangos de edad correspondientes:\n",
    "dataset['Age_ranges'] = dataset.Age.apply(lambda x: age_ranges(x))\n",
    "\n",
    "# Comprobar que las cosas funcionan como se espera:\n",
    "print dataset[['Age_ranges','Age']].head(10)"
   ]
  },
  {
   "cell_type": "markdown",
   "metadata": {},
   "source": [
    "¿Cómo están distribuidos los pasajeros por rangos de edad en el barco?"
   ]
  },
  {
   "cell_type": "code",
   "execution_count": null,
   "metadata": {
    "collapsed": false
   },
   "outputs": [],
   "source": [
    "# Imprimir distribución de rangos de edad en el barco:\n",
    "print "
   ]
  },
  {
   "cell_type": "markdown",
   "metadata": {},
   "source": [
    "¿Cuantos niños menores de 10 años hay incluidos? 82\n",
    "\n",
    "Y ahora... ¿Quien sabría decir como están distribuidos los pasajeros por edades y sexos?"
   ]
  },
  {
   "cell_type": "code",
   "execution_count": null,
   "metadata": {
    "collapsed": false
   },
   "outputs": [],
   "source": [
    "# Imprimir distribución de rangos de edad en el barco por sexo:\n",
    "print dataset.groupby(['Sex','Age_ranges']).count().iloc[:,1]"
   ]
  },
  {
   "cell_type": "markdown",
   "metadata": {},
   "source": [
    "Creo que llegados a este punto, ya no deberíamos tener problemas en sacar los factores que influyeron en la supervivencia de los pasajeros en el Titanic. Por ejemplo, ¿como se distribuyen los supervivientes por sexo?, ¿y por edades, clase, precio del billete, etc?"
   ]
  },
  {
   "cell_type": "code",
   "execution_count": null,
   "metadata": {
    "collapsed": false
   },
   "outputs": [],
   "source": [
    "# Distribución de supervivientes por edades:\n",
    "print \n",
    "# Distribución de supervivientes por sexo:\n",
    "print \n",
    "# Distribución de supervivientes por clase:\n",
    "print \n"
   ]
  },
  {
   "cell_type": "markdown",
   "metadata": {},
   "source": [
    "Bueno, ya tenemos el número de pasajeros que sobrevivieron por edad, sexo y clase, pero lo ideal (y esperado) es tener el porcentage de supervivencia por edad, sexo, clase, etc. \n",
    "\n",
    "Por ejemplo, el porcentaje de superviviencia por edades lo podemos calcular de la siguiente manera:\n",
    "\n",
    "**NOTA**: Un pasajero que sobrevive tiene valor 1, con lo cual, si sobreviven 5 pasajeros de 10, la media será igual al porcentaje de supervivencia."
   ]
  },
  {
   "cell_type": "code",
   "execution_count": null,
   "metadata": {
    "collapsed": false
   },
   "outputs": [],
   "source": [
    "# Porcentaje de supervivientes por edad:\n",
    "print dataset.groupby('Age_ranges').mean().loc[:,'Survived']"
   ]
  },
  {
   "cell_type": "markdown",
   "metadata": {},
   "source": [
    "OK, ¿Cuales son los porcentajes de superviviencia por edades, edades y sexos, y demás combinaciones que se te ocurran? "
   ]
  },
  {
   "cell_type": "code",
   "execution_count": null,
   "metadata": {
    "collapsed": false
   },
   "outputs": [],
   "source": [
    "# Porcentaje de supervivientes por Sexo:\n",
    "print \n",
    "# Porcentaje de supervivientes por Pclass:\n",
    "print \n",
    "# Porcentaje de supervivientes por Sexo y edad:\n",
    "print \n",
    "# Porcentaje de supervivientes por Sexo y Pclass:\n",
    "print \n",
    "# Porcentaje de supervivientes por Sexo y Pclass:\n",
    "print "
   ]
  },
  {
   "cell_type": "markdown",
   "metadata": {},
   "source": [
    "Ahora si!, ¿Que factores influyeron principalmente en la supervivencia de los pasajeros?\n",
    "* \n",
    "* \n",
    "* "
   ]
  },
  {
   "cell_type": "markdown",
   "metadata": {},
   "source": [
    "### Presentación de resultados\n",
    "Cuando se trabaja en ciencia de datos, es muy importante no sólo saber analizar los datos con los que se trabaja y obtener conclusiones, sino también comunicar de una manera efectiva y clara los resultados al resto de participantes para que estos puedan entender las conclusiones y el trabajo realizado. Por esta razón, vamos a generar una serie de gráficas que sirvan para representar de una manera clara y contundente los resultados de nuestro analisis.\n",
    "\n",
    "El primer tipo de gráficas que vamos a generar van a ser para describir las variables que incluye el dataset, por ejemplo representar como se distribuyen los pasajeros por clases, por sexos, por edades....\n",
    "\n",
    "[Pandas y Matplotlib](http://pandas.pydata.org/pandas-docs/stable/visualization.html) permiten generar gráficas a partir de los [dataframes](http://pandas.pydata.org/pandas-docs/stable/generated/pandas.DataFrame.plot.html#pandas.DataFrame.plot) con los que hemos estado trabajando.\n",
    "\n",
    "Por ejemplo, a continuación se muestra una representación con [boxplots](http://pandas.pydata.org/pandas-docs/stable/generated/pandas.DataFrame.boxplot.html#pandas.DataFrame.boxplot) donde podemos ver una información similar a la que la función ```.describe()``` ofrece:"
   ]
  },
  {
   "cell_type": "code",
   "execution_count": null,
   "metadata": {
    "collapsed": false
   },
   "outputs": [],
   "source": [
    "# definir functión que haga el cambio:\n",
    "def numbertogender(gender):\n",
    "    if gender == 0.: return 'male'\n",
    "    return 'female'\n",
    "\n",
    "# Aplicar el cambio a todas las filas con la función Apply:\n",
    "dataset.Sex = dataset.Sex.apply(lambda x:numbertogender(x))"
   ]
  },
  {
   "cell_type": "code",
   "execution_count": null,
   "metadata": {
    "collapsed": false
   },
   "outputs": [],
   "source": [
    "import matplotlib.pyplot as plt\n",
    "%matplotlib inline\n",
    "\n",
    "# Seleccionamos el estilo de las gráficas:\n",
    "plt.style.use('ggplot')\n",
    "\n",
    "# Generamos el Boxplot:\n",
    "dataset.boxplot(return_type='axes')\n",
    "\n",
    "# Representamos la gráfica:\n",
    "plt.show()\n",
    "\n"
   ]
  },
  {
   "cell_type": "markdown",
   "metadata": {
    "collapsed": true
   },
   "source": [
    "No parece gran cosa y ademas la columna PassengerId descompensa el eje y, vamos a mejorar el estilo de la gráfica:"
   ]
  },
  {
   "cell_type": "code",
   "execution_count": null,
   "metadata": {
    "collapsed": false
   },
   "outputs": [],
   "source": [
    "# Generamos el Boxplot, quitando la columna 'PassengerId','Survived','Pclass','SibSp','Parch':\n",
    "dataset.loc[:,~dataset.columns.isin(['PassengerId','Survived','Pclass','SibSp','Parch'])].boxplot(return_type='axes')\n",
    "\n",
    "# Añadimos título y etiquetas:\n",
    "plt.title('Variables del dataset Titanic')\n",
    "plt.xlabel('Variables')\n",
    "plt.ylim([0,300])\n",
    "\n",
    "# Representamos la gráfica:\n",
    "plt.show()"
   ]
  },
  {
   "cell_type": "markdown",
   "metadata": {},
   "source": [
    "¿Qué podemos conclusiones podemos sacar a partir de esta representación?\n",
    "* Mediana (rojo)\n",
    "* Primer y tercer quartil\n",
    "* Outliers"
   ]
  },
  {
   "cell_type": "markdown",
   "metadata": {},
   "source": [
    "¿Cómo se genera un historgrama de cualquier variable?, A continuación muestro como se genera el histograma de la columna 'Age':"
   ]
  },
  {
   "cell_type": "code",
   "execution_count": null,
   "metadata": {
    "collapsed": false
   },
   "outputs": [],
   "source": [
    "# Generamos el histograma de Age:\n",
    "dataset.loc[:,'Age'].hist(bins=15)\n",
    "\n",
    "# Añadimos título y etiquetas:\n",
    "plt.title('Distribucion de Edades en el Titanic')\n",
    "plt.xlabel('Edades')\n",
    "plt.ylabel('Frecuencias')\n",
    "\n",
    "# Representamos la gráfica:\n",
    "plt.show()"
   ]
  },
  {
   "cell_type": "markdown",
   "metadata": {},
   "source": [
    "¿Podrías generar un histograma para la columna ```Fare```?"
   ]
  },
  {
   "cell_type": "code",
   "execution_count": null,
   "metadata": {
    "collapsed": false
   },
   "outputs": [],
   "source": [
    "# Generamos el histograma de Fare:\n",
    "\n",
    "\n",
    "# Añadimos título y etiquetas:\n",
    "\n",
    "\n",
    "# Representamos la gráfica:\n"
   ]
  },
  {
   "cell_type": "markdown",
   "metadata": {},
   "source": [
    "¿Podriamos ver como se distribuyen los pasajeros por edades y por otra variable (género, supervivencia, clase....)? Echale un vistazo a la documentación!"
   ]
  },
  {
   "cell_type": "code",
   "execution_count": null,
   "metadata": {
    "collapsed": false
   },
   "outputs": [],
   "source": [
    "# Generamos el histograma de Age por Sex:\n",
    "dataset.loc[:,['Age','Sex']].hist(bins=15,by='Sex',sharey=True)\n",
    "\n",
    "# Representamos la gráfica:\n",
    "plt.show()"
   ]
  },
  {
   "cell_type": "markdown",
   "metadata": {},
   "source": [
    "Otra opción es:"
   ]
  },
  {
   "cell_type": "code",
   "execution_count": null,
   "metadata": {
    "collapsed": false
   },
   "outputs": [],
   "source": [
    "# Generamos el histograma de Age por Sex:\n",
    "dataset.loc[dataset.Sex=='male','Age'].hist(bins=15,color='blue',alpha=0.5,label='male')\n",
    "dataset.loc[dataset.Sex=='female','Age'].hist(bins=15,color='red',alpha=0.5,label='female')\n",
    "\n",
    "# Añadimos título y etiquetas:\n",
    "plt.title('Distribucion de Edades por Sexo en el Titanic')\n",
    "plt.xlabel('Edades')\n",
    "plt.ylabel('Frecuencias')\n",
    "plt.legend()\n",
    "\n",
    "# Representamos la gráfica:\n",
    "plt.show()"
   ]
  },
  {
   "cell_type": "markdown",
   "metadata": {},
   "source": [
    "¿Cómo se distribuyen los pasajeros por edad y por clase? (selecciones [colores](http://html-color-codes.info/) para cada una de las clases)"
   ]
  },
  {
   "cell_type": "code",
   "execution_count": null,
   "metadata": {
    "collapsed": false
   },
   "outputs": [],
   "source": [
    "# Generamos el histograma de Age por clase:\n",
    "dataset.loc[dataset.Pclass==3,'Age'].hist(bins=15,color='#40FF00',alpha=0.5,label='Tercera')\n",
    "dataset.loc[dataset.Pclass==2,'Age'].hist(bins=15,color='#00FFFF',alpha=0.5,label='Segunda')\n",
    "dataset.loc[dataset.Pclass==1,'Age'].hist(bins=15,color='#610B5E',alpha=0.5,label='Primera')\n",
    "\n",
    "# Añadimos título y etiquetas:\n",
    "plt.title('Distribucion de Edades por Clases en el Titanic')\n",
    "plt.xlabel('Edades')\n",
    "plt.ylabel('Frecuencias')\n",
    "plt.legend()\n",
    "\n",
    "# Representamos la gráfica:\n",
    "plt.show()"
   ]
  },
  {
   "cell_type": "markdown",
   "metadata": {},
   "source": [
    "Ahora vamos a empezar a generar gráficas para demostrar como se distribuyen los supervivientes por Sexo, Clase y Edad. Antes vimos que esta información la obteniamos haciendo agrupaciones sobre el dataset. En este caso repetiremos el proceso y lo representaremos, por ejemplo el siguiente proceso muestra como se distribuyen los pasajeros por sexo y los porcentajes de superviviencia asociados a los mismos:"
   ]
  },
  {
   "cell_type": "code",
   "execution_count": null,
   "metadata": {
    "collapsed": false
   },
   "outputs": [],
   "source": [
    "# Vamos a crear una figura con dos subplots:\n",
    "f, axarr = plt.subplots(1,2,figsize=(10,7))\n",
    "f.suptitle('Distribucion y probabilidad de Supervivencia\\n de pasajeros por Sexo', fontsize=14, fontweight='bold')\n",
    "\n",
    "# En la gráfica de la izquierda vamos a representar la cantidad de pasajeros por Sexo\n",
    "dataset.groupby('Sex').count().iloc[:,1].plot.pie(ax=axarr[0],colors=['red','blue'],autopct='%1.1f%%')\n",
    "axarr[0].set_ylabel('Distribucion por Sexos de Pasajeros')\n",
    "\n",
    "# En la gráfica de la derecha vamos a representar la probabilidad de superviviencia por Sexo\n",
    "dataset.groupby('Sex').mean().iloc[:,1].plot.bar(ax=axarr[1],color=['red','blue'],alpha=0.5)\n",
    "axarr[1].set_ylabel('Probabilidad de Supervivencia')\n",
    "axarr[1].set_ylim([0,1])\n",
    "\n",
    "plt.show()"
   ]
  },
  {
   "cell_type": "markdown",
   "metadata": {},
   "source": [
    "¿Podriamos hacer lo mismo con 'Age_ranges' o 'Pclass'?"
   ]
  },
  {
   "cell_type": "code",
   "execution_count": null,
   "metadata": {
    "collapsed": false
   },
   "outputs": [],
   "source": [
    "# Vamos a crear una figura con dos subplots:\n",
    "\n",
    "# En la gráfica de la izquierda vamos a representar la cantidad de pasajeros por Sexo\n",
    "\n",
    "# En la gráfica de la derecha vamos a representar la probabilidad de superviviencia por Sexo\n"
   ]
  },
  {
   "cell_type": "code",
   "execution_count": null,
   "metadata": {
    "collapsed": false
   },
   "outputs": [],
   "source": [
    "# Vamos a crear una figura con dos subplots:\n",
    "\n",
    "# En la gráfica de la izquierda vamos a representar la cantidad de pasajeros por Sexo\n",
    "\n",
    "# En la gráfica de la derecha vamos a representar la probabilidad de superviviencia por Sexo\n"
   ]
  },
  {
   "cell_type": "markdown",
   "metadata": {},
   "source": [
    "Por último, vamos a comprobar como se distribuye la probabilidad de supervivencia por Sexo y por Clase, para ello, vamos a utilizar la función [pivot](http://pandas.pydata.org/pandas-docs/stable/generated/pandas.DataFrame.pivot.html)."
   ]
  },
  {
   "cell_type": "code",
   "execution_count": null,
   "metadata": {
    "collapsed": false
   },
   "outputs": [],
   "source": [
    "# Este es el dataframe que vamos a representar:\n",
    "print dataset.groupby(['Sex','Pclass']).mean().reset_index().pivot(index='Pclass',columns='Sex',values='Survived')"
   ]
  },
  {
   "cell_type": "code",
   "execution_count": null,
   "metadata": {
    "collapsed": false
   },
   "outputs": [],
   "source": [
    "dataset.groupby(['Sex','Pclass']).mean().reset_index().pivot(\n",
    "    index='Pclass',columns='Sex',values='Survived').plot.bar(color=['red','blue'],alpha=0.5)\n",
    "\n",
    "# Añadimos título y etiquetas:\n",
    "plt.title('Probabilidad de supervivencia\\n por Sexo y Clases en el Titanic')\n",
    "plt.xlabel('Clase')\n",
    "plt.ylabel('Prob. de Supervivencia')\n",
    "plt.xticks(range(3), ['Primera', 'Segunda', 'Tercera'], color='black')\n",
    "plt.legend()\n",
    "\n",
    "plt.show()"
   ]
  },
  {
   "cell_type": "markdown",
   "metadata": {},
   "source": [
    "Felicidades!, llegados a este punto ya hemos representado visualemente las conclusiones que obtuvimos en un primer momento. Hemos demostrado que la probabilidad de superviviencia viene mayormente determinada por el Sexo, Clase y en menor medida por la Edad (y probablemente sea también factor de otras variables que no hemos analizado en este ejercicio. Podriamos crear un modelo que nos sirviera para saber si un pasajero sobrevive o no?"
   ]
  },
  {
   "cell_type": "markdown",
   "metadata": {},
   "source": [
    "# Modelización\n",
    "En esta seción vamos a trabajar en la creación de un modelo que sirva para determinar si un pasajero va a sobrevivir o no. \n",
    "Lo primero que haremos será crear nuestro propio modelo en función de las conclusiones que hemos sacado, y después lo compararemos con un [árbol de decision](https://es.wikipedia.org/wiki/Aprendizaje_basado_en_%C3%A1rboles_de_decisi%C3%B3n) que entrenaremos con el dataset.\n",
    "\n",
    "Lo primero que vamos a definir es el score ```accuracy``` para medir la calidad de nuestros resultados:"
   ]
  },
  {
   "cell_type": "code",
   "execution_count": null,
   "metadata": {
    "collapsed": true
   },
   "outputs": [],
   "source": [
    "def accuracy_score(truth, pred):\n",
    "    \"\"\" Devuelve accuracy score comparando valores predichos (pred) contra reales (truth). \"\"\"\n",
    "    \n",
    "    # Ensure that the number of predictions matches number of outcomes\n",
    "    if len(truth) == len(pred): \n",
    "        \n",
    "        # Calculate and return the accuracy as a percent\n",
    "        return \"Predicciones tienen un accuracy de {:.2f}%.\".format((truth == pred).mean()*100)\n",
    "    \n",
    "    else:\n",
    "        return \"El número de predicciones no es igual al numero de valores reales!\""
   ]
  },
  {
   "cell_type": "markdown",
   "metadata": {},
   "source": [
    "Lo siguiente que vamos a hacer es eliminar la columa 'Survived' del dataset y marcarla como outcome"
   ]
  },
  {
   "cell_type": "code",
   "execution_count": null,
   "metadata": {
    "collapsed": false
   },
   "outputs": [],
   "source": [
    "# 'Survived' será nuestra etiqueta y el valor que queremos predecir:\n",
    "outcomes = dataset['Survived']\n",
    "data = dataset.drop(['Survived','Name','Ticket','Cabin','Age_ranges','Embarked','PassengerId'], axis = 1)\n",
    "data['Sex'] = data['Sex'].apply(lambda x: 1. if x == 'female' else 0.)\n",
    "# Representar las primeras 5 filas para comprobar los cambios\n",
    "print data.head()"
   ]
  },
  {
   "cell_type": "markdown",
   "metadata": {},
   "source": [
    "Podriamos mejorar el siguiente modelo?:"
   ]
  },
  {
   "cell_type": "code",
   "execution_count": null,
   "metadata": {
    "collapsed": false
   },
   "outputs": [],
   "source": [
    "\n",
    "def modelo(data):\n",
    "    \"\"\" Modelo para estimar la probabilidad de supervivencia. \"\"\"\n",
    "\n",
    "    predictions = []\n",
    "    for _, passenger in data.iterrows():\n",
    "        # Predecir la supervivencia del pasajero (modificar estas lineas como corresponda)\n",
    "        predictions.append(0) # 0 significa que el pasajero no sobrevive\n",
    "    \n",
    "    # Devolver las predicciones\n",
    "    return pandas.Series(predictions)\n",
    "\n",
    "# Crear predicciones\n",
    "predictions = modelo(data)\n",
    "\n",
    "# Obtener resultado:\n",
    "accuracy_score(outcomes, predictions)"
   ]
  },
  {
   "cell_type": "markdown",
   "metadata": {},
   "source": [
    "Por otro lado, vamos a entrenar un [arbol de decision](http://scikit-learn.org/stable/modules/generated/sklearn.tree.DecisionTreeClassifier.html#sklearn.tree.DecisionTreeClassifier) y compararemos sus resultados con los nuestros:"
   ]
  },
  {
   "cell_type": "code",
   "execution_count": null,
   "metadata": {
    "collapsed": false
   },
   "outputs": [],
   "source": [
    "# Crear un conjunto de datos que sirvan entrenar el árbol de decision (train) y un conjunto de datos de validacion (test)\n",
    "from sklearn.cross_validation import StratifiedShuffleSplit\n",
    "sss = StratifiedShuffleSplit(outcomes, 1, test_size=0.3, random_state=450)\n",
    "for train_index, test_index in sss:\n",
    "    X_train = data.iloc[train_index]\n",
    "    y_train = outcomes.iloc[train_index]\n",
    "    X_test = data.iloc[test_index]\n",
    "    y_test = outcomes.iloc[test_index]\n",
    "    \n",
    "# Definir el arbol de decision\n",
    "from sklearn import tree\n",
    "clf = tree.DecisionTreeClassifier(max_features=6,max_depth=3)\n",
    "\n",
    "# Entrenarlo con los datos de train\n",
    "clf = clf.fit(X_train, y_train)\n",
    "\n",
    "# Crear predicciones\n",
    "predictions = clf.predict(X_test)\n",
    "\n",
    "# Obtener resultado:\n",
    "accuracy_score(y_test, predictions)"
   ]
  },
  {
   "cell_type": "markdown",
   "metadata": {},
   "source": [
    "Ahora vamos a representar el arbol de decision:"
   ]
  },
  {
   "cell_type": "code",
   "execution_count": null,
   "metadata": {
    "collapsed": false
   },
   "outputs": [],
   "source": [
    "from sklearn.externals.six import StringIO\n",
    "import pydot \n",
    "print data.columns\n",
    "dot_data = StringIO() \n",
    "tree.export_graphviz(clf, out_file=dot_data,  \n",
    "                         feature_names=data.columns,\n",
    "                         class_names=['Sobrevive','No sobrevive'], \n",
    "                         filled=True, rounded=True,  \n",
    "                         special_characters=True)  \n",
    "graph = pydot.graph_from_dot_data(dot_data.getvalue())  \n",
    "Image(graph.create_png())"
   ]
  },
  {
   "cell_type": "code",
   "execution_count": null,
   "metadata": {
    "collapsed": true
   },
   "outputs": [],
   "source": []
  }
 ],
 "metadata": {
  "kernelspec": {
   "display_name": "Python 2",
   "language": "python",
   "name": "python2"
  },
  "language_info": {
   "codemirror_mode": {
    "name": "ipython",
    "version": 2
   },
   "file_extension": ".py",
   "mimetype": "text/x-python",
   "name": "python",
   "nbconvert_exporter": "python",
   "pygments_lexer": "ipython2",
   "version": "2.7.11"
  }
 },
 "nbformat": 4,
 "nbformat_minor": 0
}
